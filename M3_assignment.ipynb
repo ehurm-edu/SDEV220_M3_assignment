{
 "cells": [
  {
   "cell_type": "code",
   "execution_count": 15,
   "id": "465c56e7-13e5-4d30-a57b-26f3f55e7d80",
   "metadata": {},
   "outputs": [
    {
     "data": {
      "text/plain": [
       "['mozzarella', 'cinderella', 'salmonella']"
      ]
     },
     "execution_count": 15,
     "metadata": {},
     "output_type": "execute_result"
    }
   ],
   "source": [
    "#7.4\n",
    "things = [\"mozzarella\", \"cinderella\", \"salmonella\"]\n",
    "things"
   ]
  },
  {
   "cell_type": "code",
   "execution_count": 17,
   "id": "0bbe0c8d-f6cd-4d3d-ac56-df779ba7addd",
   "metadata": {},
   "outputs": [
    {
     "data": {
      "text/plain": [
       "'Cinderella'"
      ]
     },
     "execution_count": 17,
     "metadata": {},
     "output_type": "execute_result"
    }
   ],
   "source": [
    "#7.5\n",
    "things[1] = things[1].capitalize()\n",
    "things[1]"
   ]
  },
  {
   "cell_type": "code",
   "execution_count": 19,
   "id": "acbaa84f-fb89-4fad-8907-8fd7c01c8d3b",
   "metadata": {},
   "outputs": [
    {
     "data": {
      "text/plain": [
       "'MOZZARELLA'"
      ]
     },
     "execution_count": 19,
     "metadata": {},
     "output_type": "execute_result"
    }
   ],
   "source": [
    "#7.6\n",
    "things[0] = things[0].upper()\n",
    "things[0]"
   ]
  },
  {
   "cell_type": "code",
   "execution_count": 21,
   "id": "269a2271-5abd-487c-9849-84b7bd4570a4",
   "metadata": {},
   "outputs": [
    {
     "data": {
      "text/plain": [
       "['MOZZARELLA', 'Cinderella']"
      ]
     },
     "execution_count": 21,
     "metadata": {},
     "output_type": "execute_result"
    }
   ],
   "source": [
    "#7.7\n",
    "things.pop()\n",
    "things"
   ]
  },
  {
   "cell_type": "code",
   "execution_count": 23,
   "id": "3efffff6-2760-4b7c-a14e-9e862b0ccbd4",
   "metadata": {},
   "outputs": [
    {
     "name": "stdout",
     "output_type": "stream",
     "text": [
      "['Harry', 'Ron', 'Hermione']\n"
     ]
    }
   ],
   "source": [
    "#9.1\n",
    "def good():\n",
    "    return ['Harry', 'Ron', 'Hermione']\n",
    "\n",
    "print(good())"
   ]
  },
  {
   "cell_type": "code",
   "execution_count": 25,
   "id": "f3f51810-d673-4c76-8737-45eb7595637e",
   "metadata": {},
   "outputs": [
    {
     "name": "stdout",
     "output_type": "stream",
     "text": [
      "5\n"
     ]
    }
   ],
   "source": [
    "#9.2\n",
    "def get_odds():\n",
    "    return range(1,10,2)\n",
    "\n",
    "counter = 0\n",
    "for i in get_odds():\n",
    "    counter += 1\n",
    "    if counter == 3:\n",
    "        print(i)"
   ]
  }
 ],
 "metadata": {
  "kernelspec": {
   "display_name": "Python 3 (ipykernel)",
   "language": "python",
   "name": "python3"
  },
  "language_info": {
   "codemirror_mode": {
    "name": "ipython",
    "version": 3
   },
   "file_extension": ".py",
   "mimetype": "text/x-python",
   "name": "python",
   "nbconvert_exporter": "python",
   "pygments_lexer": "ipython3",
   "version": "3.12.4"
  }
 },
 "nbformat": 4,
 "nbformat_minor": 5
}
